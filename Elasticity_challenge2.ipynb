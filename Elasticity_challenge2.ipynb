{
 "cells": [
  {
   "cell_type": "code",
   "execution_count": 1,
   "id": "f0d90f82-13b4-49c0-ae5f-132be92cdc76",
   "metadata": {},
   "outputs": [],
   "source": [
    "import pandas as pd\n",
    "import numpy as np"
   ]
  },
  {
   "cell_type": "code",
   "execution_count": 4,
   "id": "c6e84b81-244d-4424-9999-9f983490b544",
   "metadata": {},
   "outputs": [
    {
     "data": {
      "text/html": [
       "<div>\n",
       "<style scoped>\n",
       "    .dataframe tbody tr th:only-of-type {\n",
       "        vertical-align: middle;\n",
       "    }\n",
       "\n",
       "    .dataframe tbody tr th {\n",
       "        vertical-align: top;\n",
       "    }\n",
       "\n",
       "    .dataframe thead th {\n",
       "        text-align: right;\n",
       "    }\n",
       "</style>\n",
       "<table border=\"1\" class=\"dataframe\">\n",
       "  <thead>\n",
       "    <tr style=\"text-align: right;\">\n",
       "      <th></th>\n",
       "      <th>price</th>\n",
       "      <th>demand</th>\n",
       "    </tr>\n",
       "  </thead>\n",
       "  <tbody>\n",
       "    <tr>\n",
       "      <th>count</th>\n",
       "      <td>13476.000000</td>\n",
       "      <td>13476.000000</td>\n",
       "    </tr>\n",
       "    <tr>\n",
       "      <th>mean</th>\n",
       "      <td>45.839266</td>\n",
       "      <td>14.461796</td>\n",
       "    </tr>\n",
       "    <tr>\n",
       "      <th>std</th>\n",
       "      <td>25.968510</td>\n",
       "      <td>26.076507</td>\n",
       "    </tr>\n",
       "    <tr>\n",
       "      <th>min</th>\n",
       "      <td>5.000000</td>\n",
       "      <td>0.005088</td>\n",
       "    </tr>\n",
       "    <tr>\n",
       "      <th>25%</th>\n",
       "      <td>24.377500</td>\n",
       "      <td>0.678256</td>\n",
       "    </tr>\n",
       "    <tr>\n",
       "      <th>50%</th>\n",
       "      <td>41.255000</td>\n",
       "      <td>1.314902</td>\n",
       "    </tr>\n",
       "    <tr>\n",
       "      <th>75%</th>\n",
       "      <td>66.262500</td>\n",
       "      <td>21.394023</td>\n",
       "    </tr>\n",
       "    <tr>\n",
       "      <th>max</th>\n",
       "      <td>99.990000</td>\n",
       "      <td>278.943897</td>\n",
       "    </tr>\n",
       "  </tbody>\n",
       "</table>\n",
       "</div>"
      ],
      "text/plain": [
       "              price        demand\n",
       "count  13476.000000  13476.000000\n",
       "mean      45.839266     14.461796\n",
       "std       25.968510     26.076507\n",
       "min        5.000000      0.005088\n",
       "25%       24.377500      0.678256\n",
       "50%       41.255000      1.314902\n",
       "75%       66.262500     21.394023\n",
       "max       99.990000    278.943897"
      ]
     },
     "execution_count": 4,
     "metadata": {},
     "output_type": "execute_result"
    }
   ],
   "source": [
    "df = pd.read_csv(\"./elasticity_challenge_2.csv\")\n",
    "df.describe()"
   ]
  },
  {
   "cell_type": "code",
   "execution_count": 5,
   "id": "f85138f6-c962-41a7-a6fb-4630a2a9a357",
   "metadata": {},
   "outputs": [
    {
     "data": {
      "text/html": [
       "<div>\n",
       "<style scoped>\n",
       "    .dataframe tbody tr th:only-of-type {\n",
       "        vertical-align: middle;\n",
       "    }\n",
       "\n",
       "    .dataframe tbody tr th {\n",
       "        vertical-align: top;\n",
       "    }\n",
       "\n",
       "    .dataframe thead th {\n",
       "        text-align: right;\n",
       "    }\n",
       "</style>\n",
       "<table border=\"1\" class=\"dataframe\">\n",
       "  <thead>\n",
       "    <tr style=\"text-align: right;\">\n",
       "      <th></th>\n",
       "      <th>product</th>\n",
       "      <th>price</th>\n",
       "      <th>demand</th>\n",
       "    </tr>\n",
       "  </thead>\n",
       "  <tbody>\n",
       "    <tr>\n",
       "      <th>0</th>\n",
       "      <td>product_1</td>\n",
       "      <td>10.00</td>\n",
       "      <td>4.011260</td>\n",
       "    </tr>\n",
       "    <tr>\n",
       "      <th>1</th>\n",
       "      <td>product_1</td>\n",
       "      <td>10.01</td>\n",
       "      <td>1.827389</td>\n",
       "    </tr>\n",
       "    <tr>\n",
       "      <th>2</th>\n",
       "      <td>product_1</td>\n",
       "      <td>10.02</td>\n",
       "      <td>3.835668</td>\n",
       "    </tr>\n",
       "    <tr>\n",
       "      <th>3</th>\n",
       "      <td>product_1</td>\n",
       "      <td>10.03</td>\n",
       "      <td>3.454049</td>\n",
       "    </tr>\n",
       "    <tr>\n",
       "      <th>4</th>\n",
       "      <td>product_1</td>\n",
       "      <td>10.04</td>\n",
       "      <td>2.843604</td>\n",
       "    </tr>\n",
       "  </tbody>\n",
       "</table>\n",
       "</div>"
      ],
      "text/plain": [
       "     product  price    demand\n",
       "0  product_1  10.00  4.011260\n",
       "1  product_1  10.01  1.827389\n",
       "2  product_1  10.02  3.835668\n",
       "3  product_1  10.03  3.454049\n",
       "4  product_1  10.04  2.843604"
      ]
     },
     "execution_count": 5,
     "metadata": {},
     "output_type": "execute_result"
    }
   ],
   "source": [
    "df.head()"
   ]
  },
  {
   "cell_type": "code",
   "execution_count": 31,
   "id": "af1cc23b-d508-4ebe-a2b2-4f90fcd55db1",
   "metadata": {},
   "outputs": [],
   "source": [
    "product1_df = df[df['product'] == 'product_1']\n",
    "product2_df = df[df['product'] == 'product_2']"
   ]
  },
  {
   "cell_type": "code",
   "execution_count": 32,
   "id": "627341d0-da03-421c-980d-3541f4f5dc11",
   "metadata": {},
   "outputs": [
    {
     "data": {
      "text/html": [
       "<div>\n",
       "<style scoped>\n",
       "    .dataframe tbody tr th:only-of-type {\n",
       "        vertical-align: middle;\n",
       "    }\n",
       "\n",
       "    .dataframe tbody tr th {\n",
       "        vertical-align: top;\n",
       "    }\n",
       "\n",
       "    .dataframe thead th {\n",
       "        text-align: right;\n",
       "    }\n",
       "</style>\n",
       "<table border=\"1\" class=\"dataframe\">\n",
       "  <thead>\n",
       "    <tr style=\"text-align: right;\">\n",
       "      <th></th>\n",
       "      <th>price</th>\n",
       "      <th>demand</th>\n",
       "    </tr>\n",
       "  </thead>\n",
       "  <tbody>\n",
       "    <tr>\n",
       "      <th>count</th>\n",
       "      <td>8985.000000</td>\n",
       "      <td>8985.000000</td>\n",
       "    </tr>\n",
       "    <tr>\n",
       "      <th>mean</th>\n",
       "      <td>55.004615</td>\n",
       "      <td>1.087276</td>\n",
       "    </tr>\n",
       "    <tr>\n",
       "      <th>std</th>\n",
       "      <td>25.981627</td>\n",
       "      <td>0.819267</td>\n",
       "    </tr>\n",
       "    <tr>\n",
       "      <th>min</th>\n",
       "      <td>10.000000</td>\n",
       "      <td>0.005088</td>\n",
       "    </tr>\n",
       "    <tr>\n",
       "      <th>25%</th>\n",
       "      <td>32.500000</td>\n",
       "      <td>0.560341</td>\n",
       "    </tr>\n",
       "    <tr>\n",
       "      <th>50%</th>\n",
       "      <td>55.020000</td>\n",
       "      <td>0.816146</td>\n",
       "    </tr>\n",
       "    <tr>\n",
       "      <th>75%</th>\n",
       "      <td>77.500000</td>\n",
       "      <td>1.317934</td>\n",
       "    </tr>\n",
       "    <tr>\n",
       "      <th>max</th>\n",
       "      <td>99.990000</td>\n",
       "      <td>6.452743</td>\n",
       "    </tr>\n",
       "  </tbody>\n",
       "</table>\n",
       "</div>"
      ],
      "text/plain": [
       "             price       demand\n",
       "count  8985.000000  8985.000000\n",
       "mean     55.004615     1.087276\n",
       "std      25.981627     0.819267\n",
       "min      10.000000     0.005088\n",
       "25%      32.500000     0.560341\n",
       "50%      55.020000     0.816146\n",
       "75%      77.500000     1.317934\n",
       "max      99.990000     6.452743"
      ]
     },
     "execution_count": 32,
     "metadata": {},
     "output_type": "execute_result"
    }
   ],
   "source": [
    "product1_df.describe()"
   ]
  },
  {
   "cell_type": "code",
   "execution_count": 33,
   "id": "bb54b134-e066-435f-a02e-a8a0c6bd2bfc",
   "metadata": {},
   "outputs": [
    {
     "data": {
      "text/html": [
       "<div>\n",
       "<style scoped>\n",
       "    .dataframe tbody tr th:only-of-type {\n",
       "        vertical-align: middle;\n",
       "    }\n",
       "\n",
       "    .dataframe tbody tr th {\n",
       "        vertical-align: top;\n",
       "    }\n",
       "\n",
       "    .dataframe thead th {\n",
       "        text-align: right;\n",
       "    }\n",
       "</style>\n",
       "<table border=\"1\" class=\"dataframe\">\n",
       "  <thead>\n",
       "    <tr style=\"text-align: right;\">\n",
       "      <th></th>\n",
       "      <th>price</th>\n",
       "      <th>demand</th>\n",
       "    </tr>\n",
       "  </thead>\n",
       "  <tbody>\n",
       "    <tr>\n",
       "      <th>count</th>\n",
       "      <td>4491.000000</td>\n",
       "      <td>4491.000000</td>\n",
       "    </tr>\n",
       "    <tr>\n",
       "      <th>mean</th>\n",
       "      <td>27.502445</td>\n",
       "      <td>41.219770</td>\n",
       "    </tr>\n",
       "    <tr>\n",
       "      <th>std</th>\n",
       "      <td>12.989824</td>\n",
       "      <td>31.068689</td>\n",
       "    </tr>\n",
       "    <tr>\n",
       "      <th>min</th>\n",
       "      <td>5.000000</td>\n",
       "      <td>0.062762</td>\n",
       "    </tr>\n",
       "    <tr>\n",
       "      <th>25%</th>\n",
       "      <td>16.275000</td>\n",
       "      <td>21.404371</td>\n",
       "    </tr>\n",
       "    <tr>\n",
       "      <th>50%</th>\n",
       "      <td>27.510000</td>\n",
       "      <td>31.072913</td>\n",
       "    </tr>\n",
       "    <tr>\n",
       "      <th>75%</th>\n",
       "      <td>38.745000</td>\n",
       "      <td>50.217225</td>\n",
       "    </tr>\n",
       "    <tr>\n",
       "      <th>max</th>\n",
       "      <td>49.990000</td>\n",
       "      <td>278.943897</td>\n",
       "    </tr>\n",
       "  </tbody>\n",
       "</table>\n",
       "</div>"
      ],
      "text/plain": [
       "             price       demand\n",
       "count  4491.000000  4491.000000\n",
       "mean     27.502445    41.219770\n",
       "std      12.989824    31.068689\n",
       "min       5.000000     0.062762\n",
       "25%      16.275000    21.404371\n",
       "50%      27.510000    31.072913\n",
       "75%      38.745000    50.217225\n",
       "max      49.990000   278.943897"
      ]
     },
     "execution_count": 33,
     "metadata": {},
     "output_type": "execute_result"
    }
   ],
   "source": [
    "product2_df.describe()"
   ]
  },
  {
   "cell_type": "code",
   "execution_count": 18,
   "id": "c35717e8-08a9-4740-ac25-5fd586ea4646",
   "metadata": {},
   "outputs": [
    {
     "name": "stdout",
     "output_type": "stream",
     "text": [
      "Requirement already satisfied: econml in /Users/tanisha.belkar/.pyenv/versions/3.10.4/lib/python3.10/site-packages (0.15.0)\n",
      "Requirement already satisfied: scipy>1.4.0 in /Users/tanisha.belkar/.pyenv/versions/3.10.4/lib/python3.10/site-packages (from econml) (1.12.0)\n",
      "Requirement already satisfied: statsmodels>=0.10 in /Users/tanisha.belkar/.pyenv/versions/3.10.4/lib/python3.10/site-packages (from econml) (0.14.1)\n",
      "Requirement already satisfied: lightgbm in /Users/tanisha.belkar/.pyenv/versions/3.10.4/lib/python3.10/site-packages (from econml) (4.3.0)\n",
      "Requirement already satisfied: pandas>1.0 in /Users/tanisha.belkar/.pyenv/versions/3.10.4/lib/python3.10/site-packages (from econml) (2.0.3)\n",
      "Requirement already satisfied: numpy in /Users/tanisha.belkar/.pyenv/versions/3.10.4/lib/python3.10/site-packages (from econml) (1.26.4)\n",
      "Requirement already satisfied: scikit-learn<1.5,>=1.0 in /Users/tanisha.belkar/.pyenv/versions/3.10.4/lib/python3.10/site-packages (from econml) (1.4.1.post1)\n",
      "Requirement already satisfied: sparse in /Users/tanisha.belkar/.pyenv/versions/3.10.4/lib/python3.10/site-packages (from econml) (0.15.1)\n",
      "Requirement already satisfied: joblib>=0.13.0 in /Users/tanisha.belkar/.pyenv/versions/3.10.4/lib/python3.10/site-packages (from econml) (1.3.2)\n",
      "Requirement already satisfied: shap<0.44.0,>=0.38.1 in /Users/tanisha.belkar/.pyenv/versions/3.10.4/lib/python3.10/site-packages (from econml) (0.43.0)\n",
      "Requirement already satisfied: python-dateutil>=2.8.2 in /Users/tanisha.belkar/.pyenv/versions/3.10.4/lib/python3.10/site-packages (from pandas>1.0->econml) (2.8.2)\n",
      "Requirement already satisfied: pytz>=2020.1 in /Users/tanisha.belkar/.pyenv/versions/3.10.4/lib/python3.10/site-packages (from pandas>1.0->econml) (2024.1)\n",
      "Requirement already satisfied: tzdata>=2022.1 in /Users/tanisha.belkar/.pyenv/versions/3.10.4/lib/python3.10/site-packages (from pandas>1.0->econml) (2024.1)\n",
      "Requirement already satisfied: threadpoolctl>=2.0.0 in /Users/tanisha.belkar/.pyenv/versions/3.10.4/lib/python3.10/site-packages (from scikit-learn<1.5,>=1.0->econml) (3.3.0)\n",
      "Requirement already satisfied: slicer==0.0.7 in /Users/tanisha.belkar/.pyenv/versions/3.10.4/lib/python3.10/site-packages (from shap<0.44.0,>=0.38.1->econml) (0.0.7)\n",
      "Requirement already satisfied: cloudpickle in /Users/tanisha.belkar/.pyenv/versions/3.10.4/lib/python3.10/site-packages (from shap<0.44.0,>=0.38.1->econml) (3.0.0)\n",
      "Requirement already satisfied: numba in /Users/tanisha.belkar/.pyenv/versions/3.10.4/lib/python3.10/site-packages (from shap<0.44.0,>=0.38.1->econml) (0.59.0)\n",
      "Requirement already satisfied: packaging>20.9 in /Users/tanisha.belkar/.pyenv/versions/3.10.4/lib/python3.10/site-packages (from shap<0.44.0,>=0.38.1->econml) (23.2)\n",
      "Requirement already satisfied: tqdm>=4.27.0 in /Users/tanisha.belkar/.pyenv/versions/3.10.4/lib/python3.10/site-packages (from shap<0.44.0,>=0.38.1->econml) (4.66.2)\n",
      "Requirement already satisfied: patsy>=0.5.4 in /Users/tanisha.belkar/.pyenv/versions/3.10.4/lib/python3.10/site-packages (from statsmodels>=0.10->econml) (0.5.6)\n",
      "Requirement already satisfied: llvmlite<0.43,>=0.42.0dev0 in /Users/tanisha.belkar/.pyenv/versions/3.10.4/lib/python3.10/site-packages (from numba->shap<0.44.0,>=0.38.1->econml) (0.42.0)\n",
      "Requirement already satisfied: six in /Users/tanisha.belkar/.pyenv/versions/3.10.4/lib/python3.10/site-packages (from patsy>=0.5.4->statsmodels>=0.10->econml) (1.16.0)\n",
      "\u001b[33mWARNING: You are using pip version 22.0.4; however, version 24.0 is available.\n",
      "You should consider upgrading via the '/Users/tanisha.belkar/.pyenv/versions/3.10.4/bin/python3.10 -m pip install --upgrade pip' command.\u001b[0m\u001b[33m\n",
      "\u001b[0m"
     ]
    }
   ],
   "source": [
    "!pip install econml"
   ]
  },
  {
   "cell_type": "code",
   "execution_count": 28,
   "id": "22a184e1-5314-461c-8e06-79e6b9390b1b",
   "metadata": {},
   "outputs": [],
   "source": [
    "from econml.dml import LinearDML\n",
    "\n",
    "def calc_elasticity(df):\n",
    "    if 'log_price' not in df:\n",
    "        df.insert(2, 'log_price', np.log(df['price']))\n",
    "    if 'log_demand' not in df:\n",
    "        df.insert(3, 'log_demand', np.log(df['demand']))\n",
    "    est = LinearDML()\n",
    "    est.fit(\n",
    "        df['log_demand'],\n",
    "        T=df['log_price']\n",
    "    )\n",
    "    elasticity = est.const_marginal_effect()\n",
    "    return elasticity[0]"
   ]
  },
  {
   "cell_type": "code",
   "execution_count": 30,
   "id": "6d61c1d7-2383-4729-93b3-9d5e2e8f5e71",
   "metadata": {},
   "outputs": [
    {
     "name": "stdout",
     "output_type": "stream",
     "text": [
      "product 1 elasticity = -0.9024792358849132 product 2 elasticity = -0.9108114009209435\n"
     ]
    }
   ],
   "source": [
    "e1 = calc_elasticity(product1_df)\n",
    "e2 = calc_elasticity(product2_df)\n",
    "\n",
    "print(\"product 1 elasticity = {} product 2 elasticity = {}\".format(e1, e2))"
   ]
  },
  {
   "cell_type": "code",
   "execution_count": null,
   "id": "7ee54a3d-4efb-4819-8653-efa8d3c53d27",
   "metadata": {},
   "outputs": [],
   "source": []
  }
 ],
 "metadata": {
  "kernelspec": {
   "display_name": "Python 3 (ipykernel)",
   "language": "python",
   "name": "python3"
  },
  "language_info": {
   "codemirror_mode": {
    "name": "ipython",
    "version": 3
   },
   "file_extension": ".py",
   "mimetype": "text/x-python",
   "name": "python",
   "nbconvert_exporter": "python",
   "pygments_lexer": "ipython3",
   "version": "3.10.4"
  }
 },
 "nbformat": 4,
 "nbformat_minor": 5
}
